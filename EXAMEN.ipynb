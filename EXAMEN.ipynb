{
 "cells": [
  {
   "cell_type": "code",
   "execution_count": 1,
   "id": "6680e86b-980e-4b28-ad02-cb7a3ad5fac7",
   "metadata": {},
   "outputs": [],
   "source": [
    "import pandas as pd\n",
    "import numpy as np\n",
    "import matplotlib.pyplot as plt\n",
    "import seaborn as sns\n",
    "from sklearn.model_selection import train_test_split\n",
    "from sklearn.preprocessing import StandardScaler, LabelEncoder\n",
    "from sklearn.impute import SimpleImputer\n"
   ]
  },
  {
   "cell_type": "code",
   "execution_count": 2,
   "id": "e792879e-d072-4355-a9e5-61c90e07c2dc",
   "metadata": {},
   "outputs": [],
   "source": [
    "# Cargar el dataset NUEVO\n",
    "file_path = 'data_evaluacion.csv'\n",
    "data = pd.read_csv(file_path)\n"
   ]
  },
  {
   "cell_type": "code",
   "execution_count": 3,
   "id": "ee17f221",
   "metadata": {},
   "outputs": [],
   "source": [
    "# Renombrar columnas\n",
    "data.columns = [\n",
    "    'Edad', 'Tipo_Empleo', 'Ingresos', 'Educacion', 'Anios_Educacion',\n",
    "    'Estado_Civil', 'Ocupacion', 'Relacion', 'Raza', 'Genero',\n",
    "    'Ganancia_Capital', 'Perdida_Capital', 'Horas_Por_Semana', 'Pais', 'Ingreso_Anual'\n",
    "]"
   ]
  },
  {
   "cell_type": "code",
   "execution_count": 4,
   "id": "bbe9362d-4f8d-4fe3-bc4d-e72488d59181",
   "metadata": {},
   "outputs": [
    {
     "name": "stdout",
     "output_type": "stream",
     "text": [
      "Columnas corregidas: Index(['Edad', 'Tipo_Empleo', 'Ingresos', 'Educacion', 'Anios_Educacion',\n",
      "       'Estado_Civil', 'Ocupacion', 'Relacion', 'Raza', 'Genero',\n",
      "       'Ganancia_Capital', 'Perdida_Capital', 'Horas_Por_Semana', 'Pais',\n",
      "       'Ingreso_Anual'],\n",
      "      dtype='object')\n"
     ]
    }
   ],
   "source": [
    "# Limpiar los nombres de las columnas quitando espacios al inicio y al final\n",
    "data.columns = data.columns.str.strip()\n",
    "\n",
    "# Verificar nuevamente los nombres de las columnas\n",
    "print(\"Columnas corregidas:\", data.columns)"
   ]
  },
  {
   "cell_type": "code",
   "execution_count": 5,
   "id": "52a6a270-62b2-49ae-97a2-7adfafcd000c",
   "metadata": {},
   "outputs": [
    {
     "name": "stdout",
     "output_type": "stream",
     "text": [
      "<class 'pandas.core.frame.DataFrame'>\n",
      "RangeIndex: 48841 entries, 0 to 48840\n",
      "Data columns (total 15 columns):\n",
      " #   Column            Non-Null Count  Dtype \n",
      "---  ------            --------------  ----- \n",
      " 0   Edad              48841 non-null  int64 \n",
      " 1   Tipo_Empleo       48841 non-null  object\n",
      " 2   Ingresos          48841 non-null  int64 \n",
      " 3   Educacion         48841 non-null  object\n",
      " 4   Anios_Educacion   48841 non-null  int64 \n",
      " 5   Estado_Civil      48841 non-null  object\n",
      " 6   Ocupacion         48841 non-null  object\n",
      " 7   Relacion          48841 non-null  object\n",
      " 8   Raza              48841 non-null  object\n",
      " 9   Genero            48841 non-null  object\n",
      " 10  Ganancia_Capital  48841 non-null  int64 \n",
      " 11  Perdida_Capital   48841 non-null  int64 \n",
      " 12  Horas_Por_Semana  48841 non-null  int64 \n",
      " 13  Pais              48841 non-null  object\n",
      " 14  Ingreso_Anual     48841 non-null  object\n",
      "dtypes: int64(6), object(9)\n",
      "memory usage: 5.6+ MB\n",
      "None\n",
      "               Edad      Ingresos  Anios_Educacion  Ganancia_Capital  \\\n",
      "count  48841.000000  4.884100e+04     48841.000000      48841.000000   \n",
      "mean      38.643578  1.896664e+05        10.078029       1079.045208   \n",
      "std       13.710650  1.056039e+05         2.570965       7452.093700   \n",
      "min       17.000000  1.228500e+04         1.000000          0.000000   \n",
      "25%       28.000000  1.175550e+05         9.000000          0.000000   \n",
      "50%       37.000000  1.781470e+05        10.000000          0.000000   \n",
      "75%       48.000000  2.376460e+05        12.000000          0.000000   \n",
      "max       90.000000  1.490400e+06        16.000000      99999.000000   \n",
      "\n",
      "       Perdida_Capital  Horas_Por_Semana  \n",
      "count     48841.000000      48841.000000  \n",
      "mean         87.504105         40.422391  \n",
      "std         403.008483         12.391571  \n",
      "min           0.000000          1.000000  \n",
      "25%           0.000000         40.000000  \n",
      "50%           0.000000         40.000000  \n",
      "75%           0.000000         45.000000  \n",
      "max        4356.000000         99.000000  \n",
      "Ingreso_Anual\n",
      "<=50K    37154\n",
      ">50K     11687\n",
      "Name: count, dtype: int64\n"
     ]
    }
   ],
   "source": [
    "# Información básica del dataset\n",
    "print(data.info())\n",
    "\n",
    "# Resumen estadístico\n",
    "print(data.describe())\n",
    "\n",
    "# Distribución de la variable objetivo\n",
    "print(data['Ingreso_Anual'].value_counts())"
   ]
  },
  {
   "cell_type": "code",
   "execution_count": 6,
   "id": "23da5d5a-522f-48b0-a15d-93675d7b9d6f",
   "metadata": {},
   "outputs": [
    {
     "name": "stdout",
     "output_type": "stream",
     "text": [
      "Edad                0\n",
      "Tipo_Empleo         0\n",
      "Ingresos            0\n",
      "Educacion           0\n",
      "Anios_Educacion     0\n",
      "Estado_Civil        0\n",
      "Ocupacion           0\n",
      "Relacion            0\n",
      "Raza                0\n",
      "Genero              0\n",
      "Ganancia_Capital    0\n",
      "Perdida_Capital     0\n",
      "Horas_Por_Semana    0\n",
      "Pais                0\n",
      "Ingreso_Anual       0\n",
      "dtype: int64\n",
      "Edad: 74 valores únicos\n",
      "Tipo_Empleo: 9 valores únicos\n",
      "Ingresos: 28522 valores únicos\n",
      "Educacion: 16 valores únicos\n",
      "Anios_Educacion: 16 valores únicos\n",
      "Estado_Civil: 7 valores únicos\n",
      "Ocupacion: 15 valores únicos\n",
      "Relacion: 6 valores únicos\n",
      "Raza: 5 valores únicos\n",
      "Genero: 2 valores únicos\n",
      "Ganancia_Capital: 123 valores únicos\n",
      "Perdida_Capital: 99 valores únicos\n",
      "Horas_Por_Semana: 96 valores únicos\n",
      "Pais: 42 valores únicos\n",
      "Ingreso_Anual: 2 valores únicos\n"
     ]
    }
   ],
   "source": [
    "# Comprobar valores nulos\n",
    "print(data.isnull().sum())\n",
    "\n",
    "# Comprobar valores únicos en cada columna\n",
    "for column in data.columns:\n",
    "    print(f\"{column}: {data[column].nunique()} valores únicos\")\n"
   ]
  },
  {
   "cell_type": "code",
   "execution_count": 7,
   "id": "2a4c9bbf-7e2b-412e-80f8-ac9633864b67",
   "metadata": {},
   "outputs": [
    {
     "name": "stdout",
     "output_type": "stream",
     "text": [
      "       Edad  Tipo_Empleo  Ingresos  Educacion  Anios_Educacion  Estado_Civil  \\\n",
      "0  0.828300            6 -1.249723          9         1.136539             2   \n",
      "1 -0.046940            4  0.582077         11        -0.419313             0   \n",
      "2  1.047111            4  0.790127          1        -1.197239             2   \n",
      "3 -0.776308            4  1.471042          9         1.136539             2   \n",
      "4 -0.119877            4  1.187097         12         1.525502             2   \n",
      "\n",
      "   Ocupacion  Relacion  Raza  Genero  Ganancia_Capital  Perdida_Capital  \\\n",
      "0          4         0     4       1         -0.277849        -0.205082   \n",
      "1          6         1     4       1         -0.277849        -0.205082   \n",
      "2          6         0     2       1         -0.277849        -0.205082   \n",
      "3         10         5     2       0         -0.277849        -0.205082   \n",
      "4          4         5     4       0         -0.277849        -0.205082   \n",
      "\n",
      "   Horas_Por_Semana  Pais  Ingreso_Anual  \n",
      "0         -2.228234    39              0  \n",
      "1         -0.032267    39              0  \n",
      "2         -0.032267    39              0  \n",
      "3         -0.032267     5              0  \n",
      "4         -0.032267    39              0  \n"
     ]
    }
   ],
   "source": [
    "# Imputación de valores faltantes\n",
    "imputer = SimpleImputer(strategy='most_frequent')\n",
    "data = pd.DataFrame(imputer.fit_transform(data), columns=data.columns)\n",
    "\n",
    "# Codificación de variables categóricas\n",
    "label_encoders = {}\n",
    "for column in data.select_dtypes(include='object').columns:\n",
    "    le = LabelEncoder()\n",
    "    data[column] = le.fit_transform(data[column])\n",
    "    label_encoders[column] = le\n",
    "\n",
    "# Escalado de características numéricas\n",
    "scaler = StandardScaler()\n",
    "numerical_cols = ['Edad', 'Ingresos', 'Anios_Educacion', 'Ganancia_Capital', 'Perdida_Capital', 'Horas_Por_Semana']\n",
    "data[numerical_cols] = scaler.fit_transform(data[numerical_cols])\n",
    "\n",
    "# Verificación final\n",
    "print(data.head())"
   ]
  },
  {
   "cell_type": "code",
   "execution_count": 8,
   "id": "fab9f1df-18d8-4f4b-b064-a80297e761fd",
   "metadata": {},
   "outputs": [],
   "source": [
    "# Separar características y la variable objetivo\n",
    "X = data.drop('Ingreso_Anual', axis=1)\n",
    "y = data['Ingreso_Anual']\n",
    "\n",
    "# Dividir el conjunto de datos\n",
    "X_train, X_test, y_train, y_test = train_test_split(X, y, test_size=0.3, random_state=42,stratify=y)"
   ]
  },
  {
   "cell_type": "code",
   "execution_count": 9,
   "id": "882b93a4-5207-4836-b10f-49e113489d94",
   "metadata": {},
   "outputs": [],
   "source": [
    "from sklearn.linear_model import LogisticRegression\n",
    "from sklearn.svm import SVC\n",
    "from sklearn.neighbors import KNeighborsClassifier\n",
    "from sklearn.tree import DecisionTreeClassifier\n",
    "from sklearn.naive_bayes import GaussianNB\n",
    "from sklearn.neural_network import MLPClassifier\n",
    "from sklearn.metrics import accuracy_score, classification_report, confusion_matrix\n",
    "\n",
    "# Función para entrenar y evaluar un modelo\n",
    "def train_and_evaluate(model, X_train, y_train, X_test, y_test):\n",
    "    model.fit(X_train, y_train)\n",
    "    y_pred = model.predict(X_test)\n",
    "    accuracy = accuracy_score(y_test, y_pred)\n",
    "    print(f\"Accuracy: {accuracy:.4f}\")\n",
    "    print(classification_report(y_test, y_pred))\n",
    "\n",
    "# Modelos a probar\n",
    "models = {\n",
    "    'Logistic Regression': LogisticRegression(max_iter=1000),\n",
    "    'SVM (Linear Kernel)': SVC(kernel='linear'),\n",
    "    'SVM (RBF Kernel)': SVC(kernel='rbf'),\n",
    "    'SVM (Polynomial Kernel)': SVC(kernel='poly'),\n",
    "    'SVM (Sigmoid Kernel)': SVC(kernel='sigmoid'),\n",
    "    'K-NN': KNeighborsClassifier(),\n",
    "    'Decision Tree': DecisionTreeClassifier(),\n",
    "    'Naive Bayes': GaussianNB(),\n",
    "    'Neural Network': MLPClassifier(max_iter=1000)\n",
    "}\n",
    "\n",
    "\n"
   ]
  },
  {
   "cell_type": "code",
   "execution_count": null,
   "id": "bced0728-f0bb-4dc6-a561-7172e48751f8",
   "metadata": {},
   "outputs": [],
   "source": [
    "# Evaluación de cada modelo\n",
    "for name, model in models.items():\n",
    "    print(f\"Modelo: {name}\")\n",
    "    train_and_evaluate(model, X_train, y_train, X_test, y_test)"
   ]
  },
  {
   "cell_type": "code",
   "execution_count": null,
   "id": "85f21b50-304e-4c1a-9d05-8a81a6251387",
   "metadata": {},
   "outputs": [],
   "source": [
    "# Selección del mejor k para k-NN\n",
    "k_range = range(1, 26)\n",
    "scores = {}\n",
    "for k in k_range:\n",
    "    knn = KNeighborsClassifier(n_neighbors=k)\n",
    "    knn.fit(X_train, y_train)\n",
    "    y_pred = knn.predict(X_test)\n",
    "    scores[k] = accuracy_score(y_test, y_pred)\n",
    "\n",
    "# Graficar el rendimiento en función de k\n",
    "plt.plot(list(scores.keys()), list(scores.values()))\n",
    "plt.xlabel('Número de vecinos: k')\n",
    "plt.ylabel('Accuracy')\n",
    "plt.title('Selección del mejor k para k-NN')\n",
    "plt.show()\n",
    "\n",
    "# Mejor k\n",
    "best_k = max(scores, key=scores.get)\n",
    "print(f\"Mejor k: {best_k} con accuracy: {scores[best_k]:.4f}\")\n"
   ]
  },
  {
   "cell_type": "code",
   "execution_count": null,
   "id": "c91953a0-4e11-4416-92da-19e8f533708f",
   "metadata": {},
   "outputs": [],
   "source": [
    "# Evaluar underfitting y overfitting\n",
    "def evaluate_fit(model, X_train, y_train, X_test, y_test):\n",
    "    train_accuracy = model.score(X_train, y_train)\n",
    "    test_accuracy = model.score(X_test, y_test)\n",
    "    print(f\"Train Accuracy: {train_accuracy:.4f}\")\n",
    "    print(f\"Test Accuracy: {test_accuracy:.4f}\")\n",
    "\n",
    "# Evaluar el ajuste para cada modelo\n",
    "for name, model in models.items():\n",
    "    print(f\"Evaluación de ajuste para: {name}\")\n",
    "    evaluate_fit(model, X_train, y_train, X_test, y_test)\n"
   ]
  },
  {
   "cell_type": "code",
   "execution_count": 10,
   "id": "8fe98ada-3a9f-4324-872a-c0212bea7942",
   "metadata": {},
   "outputs": [],
   "source": [
    "\n",
    "#el mejor modelo resulto ser las redes neuronales\n",
    "best_model=MLPClassifier(max_iter=1000).fit(X_train, y_train)\n"
   ]
  },
  {
   "cell_type": "code",
   "execution_count": 11,
   "id": "7d93ea26-c961-47ef-ae1b-d5e2a83257c5",
   "metadata": {},
   "outputs": [
    {
     "name": "stdout",
     "output_type": "stream",
     "text": [
      "Accuracy: 0.8528\n",
      "              precision    recall  f1-score   support\n",
      "\n",
      "           0       0.87      0.95      0.91     11147\n",
      "           1       0.79      0.53      0.63      3506\n",
      "\n",
      "    accuracy                           0.85     14653\n",
      "   macro avg       0.83      0.74      0.77     14653\n",
      "weighted avg       0.85      0.85      0.84     14653\n",
      "\n"
     ]
    }
   ],
   "source": [
    "y_pred = best_model.predict(X_test)\n",
    "accuracy = accuracy_score(y_test, y_pred)\n",
    "print(f\"Accuracy: {accuracy:.4f}\")\n",
    "print(classification_report(y_test, y_pred))"
   ]
  },
  {
   "cell_type": "code",
   "execution_count": 12,
   "id": "8d3734bc-9679-4bb0-9a99-c58010451c0e",
   "metadata": {},
   "outputs": [],
   "source": [
    "import pickle\n",
    "# Grabamos el modelo en el directorio\n",
    "pkl_filename = \"pickle_model.pkl\"\n",
    "with open(pkl_filename, 'wb') as file:\n",
    "    pickle.dump(best_model, file)"
   ]
  },
  {
   "cell_type": "code",
   "execution_count": null,
   "id": "90f67770-8522-4c11-a01f-0f4a93b4cf31",
   "metadata": {},
   "outputs": [],
   "source": []
  }
 ],
 "metadata": {
  "kernelspec": {
   "display_name": "Python 3 (ipykernel)",
   "language": "python",
   "name": "python3"
  },
  "language_info": {
   "codemirror_mode": {
    "name": "ipython",
    "version": 3
   },
   "file_extension": ".py",
   "mimetype": "text/x-python",
   "name": "python",
   "nbconvert_exporter": "python",
   "pygments_lexer": "ipython3",
   "version": "3.12.4"
  }
 },
 "nbformat": 4,
 "nbformat_minor": 5
}
